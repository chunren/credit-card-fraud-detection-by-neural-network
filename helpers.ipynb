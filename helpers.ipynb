{
 "cells": [
  {
   "cell_type": "code",
   "execution_count": 2,
   "id": "212ebea5-31c7-4d3f-86f3-957fc65bbe0e",
   "metadata": {},
   "outputs": [
    {
     "name": "stdout",
     "output_type": "stream",
     "text": [
      "TensorFlow version: 2.10.0\n",
      "GPUs detected: 1\n",
      "GPU 0: PhysicalDevice(name='/physical_device:GPU:0', device_type='GPU')\n",
      "Operation completed on GPU in 0.0485 seconds.\n"
     ]
    }
   ],
   "source": [
    "import tensorflow as tf\n",
    "\n",
    "# Check TensorFlow version\n",
    "print(\"TensorFlow version:\", tf.__version__)\n",
    "\n",
    "# Check if TensorFlow can access GPU\n",
    "gpus = tf.config.list_physical_devices('GPU')\n",
    "if gpus:\n",
    "    print(f\"GPUs detected: {len(gpus)}\")\n",
    "    for i, gpu in enumerate(gpus):\n",
    "        print(f\"GPU {i}: {gpu}\")\n",
    "else:\n",
    "    print(\"No GPU detected by TensorFlow.\")\n",
    "\n",
    "# Test TensorFlow operation to ensure GPU is being used\n",
    "import time\n",
    "\n",
    "# Create a simple tensor operation\n",
    "def test_tensorflow_on_gpu():\n",
    "    with tf.device('/GPU:0'):  # Force TensorFlow to use the first GPU\n",
    "        a = tf.random.normal([10000, 10000])\n",
    "        b = tf.random.normal([10000, 10000])\n",
    "        start_time = time.time()\n",
    "        result = tf.matmul(a, b)\n",
    "        end_time = time.time()\n",
    "        print(\"Operation completed on GPU in {:.4f} seconds.\".format(end_time - start_time))\n",
    "\n",
    "if gpus:\n",
    "    test_tensorflow_on_gpu()\n",
    "else:\n",
    "    print(\"Skipping GPU test as no GPU is available.\")\n"
   ]
  },
  {
   "cell_type": "code",
   "execution_count": 1,
   "id": "e1b4860b-5780-4ae7-8e2a-88ffc4bfefea",
   "metadata": {},
   "outputs": [
    {
     "name": "stdout",
     "output_type": "stream",
     "text": [
      "Seaborn version: 0.13.2\n",
      "Matplotlib version: 3.9.2\n",
      "Pandas version: 2.2.3\n"
     ]
    }
   ],
   "source": [
    "import seaborn as sns\n",
    "import matplotlib.pyplot as plt\n",
    "import pandas as pd\n",
    "\n",
    "print(\"Seaborn version:\", sns.__version__)\n",
    "print(\"Matplotlib version:\", plt.matplotlib.__version__)\n",
    "print(\"Pandas version:\", pd.__version__)\n"
   ]
  },
  {
   "cell_type": "code",
   "execution_count": null,
   "id": "1d468365-4a34-46d2-9463-651248ba04f4",
   "metadata": {},
   "outputs": [],
   "source": []
  }
 ],
 "metadata": {
  "kernelspec": {
   "display_name": "Python 3 (ipykernel)",
   "language": "python",
   "name": "python3"
  },
  "language_info": {
   "codemirror_mode": {
    "name": "ipython",
    "version": 3
   },
   "file_extension": ".py",
   "mimetype": "text/x-python",
   "name": "python",
   "nbconvert_exporter": "python",
   "pygments_lexer": "ipython3",
   "version": "3.10.14"
  }
 },
 "nbformat": 4,
 "nbformat_minor": 5
}
